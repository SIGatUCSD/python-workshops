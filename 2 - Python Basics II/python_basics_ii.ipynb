{
 "cells": [
  {
   "attachments": {},
   "cell_type": "markdown",
   "metadata": {},
   "source": [
    "# 2. Python Basics II\n",
    "\n",
    "### Sustainable Investment Group/Biokind Analytics\n",
    "\n",
    "##### Lucien Chen, Pranay Jha"
   ]
  },
  {
   "attachments": {},
   "cell_type": "markdown",
   "metadata": {},
   "source": [
    "### 2.0 Basic Operators\n",
    "#### Math operators: `+`, `-`, `*`, `**`, `/`, `%`, `round()`, `sqrt()` \n",
    "#### Comparison operators: `==`, `!=`, `>`, `>=`, `<`, `<=`\n",
    "Base Python has many built-in operators which we can use to perform arithmetic, compare values, and more. These are the basis of implementing logic in our code."
   ]
  },
  {
   "cell_type": "code",
   "execution_count": 19,
   "metadata": {},
   "outputs": [
    {
     "data": {
      "text/plain": [
       "3"
      ]
     },
     "execution_count": 19,
     "metadata": {},
     "output_type": "execute_result"
    }
   ],
   "source": [
    "# + can be used to add numerical values or combine strings and lists, this is known as concatenations\n",
    "1 + 2"
   ]
  },
  {
   "cell_type": "code",
   "execution_count": 20,
   "metadata": {},
   "outputs": [
    {
     "data": {
      "text/plain": [
       "'Hello, World!'"
      ]
     },
     "execution_count": 20,
     "metadata": {},
     "output_type": "execute_result"
    }
   ],
   "source": [
    "'Hello' + ',' + ' ' + 'World!'"
   ]
  },
  {
   "cell_type": "code",
   "execution_count": 21,
   "metadata": {},
   "outputs": [
    {
     "data": {
      "text/plain": [
       "[1, 2, 3, 4, 5, 6]"
      ]
     },
     "execution_count": 21,
     "metadata": {},
     "output_type": "execute_result"
    }
   ],
   "source": [
    "[1, 2, 3] + [4, 5, 6]"
   ]
  },
  {
   "cell_type": "code",
   "execution_count": 39,
   "metadata": {},
   "outputs": [
    {
     "data": {
      "text/plain": [
       "0"
      ]
     },
     "execution_count": 39,
     "metadata": {},
     "output_type": "execute_result"
    }
   ],
   "source": [
    "# - does subtraction\n",
    "1 - 1 # 0"
   ]
  },
  {
   "cell_type": "code",
   "execution_count": 40,
   "metadata": {},
   "outputs": [
    {
     "data": {
      "text/plain": [
       "81"
      ]
     },
     "execution_count": 40,
     "metadata": {},
     "output_type": "execute_result"
    }
   ],
   "source": [
    "# * does multiplication\n",
    "9 * 9 # 81"
   ]
  },
  {
   "cell_type": "code",
   "execution_count": 41,
   "metadata": {},
   "outputs": [
    {
     "data": {
      "text/plain": [
       "20.0"
      ]
     },
     "execution_count": 41,
     "metadata": {},
     "output_type": "execute_result"
    }
   ],
   "source": [
    "# / does division\n",
    "100 / 5 # 20"
   ]
  },
  {
   "cell_type": "code",
   "execution_count": 28,
   "metadata": {},
   "outputs": [
    {
     "data": {
      "text/plain": [
       "2"
      ]
     },
     "execution_count": 28,
     "metadata": {},
     "output_type": "execute_result"
    }
   ],
   "source": [
    "# // does integer divison, it rounds the result such that there are no decimals\n",
    "5//2 # we would expect 2.5 normally"
   ]
  },
  {
   "cell_type": "code",
   "execution_count": 38,
   "metadata": {},
   "outputs": [
    {
     "data": {
      "text/plain": [
       "1"
      ]
     },
     "execution_count": 38,
     "metadata": {},
     "output_type": "execute_result"
    }
   ],
   "source": [
    "# % is called the modulo operator, it returns the remainder of a number when divided by another\n",
    "3 % 2 # 1"
   ]
  },
  {
   "cell_type": "code",
   "execution_count": 42,
   "metadata": {},
   "outputs": [
    {
     "data": {
      "text/plain": [
       "True"
      ]
     },
     "execution_count": 42,
     "metadata": {},
     "output_type": "execute_result"
    }
   ],
   "source": [
    "# comparisons return boolean values\n",
    "2 > 0"
   ]
  },
  {
   "cell_type": "code",
   "execution_count": 43,
   "metadata": {},
   "outputs": [
    {
     "data": {
      "text/plain": [
       "True"
      ]
     },
     "execution_count": 43,
     "metadata": {},
     "output_type": "execute_result"
    }
   ],
   "source": [
    "0 >= 0"
   ]
  },
  {
   "cell_type": "code",
   "execution_count": 45,
   "metadata": {},
   "outputs": [
    {
     "data": {
      "text/plain": [
       "False"
      ]
     },
     "execution_count": 45,
     "metadata": {},
     "output_type": "execute_result"
    }
   ],
   "source": [
    "'I' == 'i'"
   ]
  },
  {
   "cell_type": "code",
   "execution_count": 46,
   "metadata": {},
   "outputs": [
    {
     "data": {
      "text/plain": [
       "True"
      ]
     },
     "execution_count": 46,
     "metadata": {},
     "output_type": "execute_result"
    }
   ],
   "source": [
    "'a' <= 'z'"
   ]
  },
  {
   "cell_type": "code",
   "execution_count": 47,
   "metadata": {},
   "outputs": [
    {
     "data": {
      "text/plain": [
       "False"
      ]
     },
     "execution_count": 47,
     "metadata": {},
     "output_type": "execute_result"
    }
   ],
   "source": [
    "[1, 2, 3] > [1, 2, 3, 4]"
   ]
  },
  {
   "cell_type": "code",
   "execution_count": 55,
   "metadata": {},
   "outputs": [
    {
     "data": {
      "text/plain": [
       "True"
      ]
     },
     "execution_count": 55,
     "metadata": {},
     "output_type": "execute_result"
    }
   ],
   "source": [
    "True > False"
   ]
  },
  {
   "attachments": {},
   "cell_type": "markdown",
   "metadata": {},
   "source": [
    "### 2.1 Boolean operators: `and`, `or`, `not` and Conditional Statements: `if`, `elif`, `else`\n",
    "\n",
    "Boolean operators are used to connect logic statements together to form larger statements. The truth tables for these operators show how different combinations of individual statements $P$ and $Q$ affect the truth value of the overall statement.\n",
    "\n",
    "| $P$ | $Q$ | $P$ `and` $Q$ | $P$ `or` $Q$ | \n",
    "|:---:|:---:|:-------------:|:------------:|\n",
    "|  T  |  T  |       T       |       T      |\n",
    "|  T  |  F  |       F       |       T      |\n",
    "|  F  |  T  |       F       |       T      |\n",
    "|  F  |  F  |       F       |       F      |\n",
    "\n",
    "Conditional statements are used to specify blocks of code that are executed only when certain conditions are met (evaluate to True). We can also set alternative blocks of code to run if the intial condition is not met."
   ]
  },
  {
   "cell_type": "code",
   "execution_count": 1,
   "metadata": {},
   "outputs": [
    {
     "data": {
      "text/plain": [
       "True"
      ]
     },
     "execution_count": 1,
     "metadata": {},
     "output_type": "execute_result"
    }
   ],
   "source": [
    "1 < 2 and 2 < 3 # here we combine comparison operators with boolean"
   ]
  },
  {
   "cell_type": "code",
   "execution_count": 2,
   "metadata": {},
   "outputs": [
    {
     "data": {
      "text/plain": [
       "True"
      ]
     },
     "execution_count": 2,
     "metadata": {},
     "output_type": "execute_result"
    }
   ],
   "source": [
    "1 > 2 or 2 > 1 # only one of these need to be True"
   ]
  },
  {
   "cell_type": "code",
   "execution_count": 3,
   "metadata": {},
   "outputs": [
    {
     "data": {
      "text/plain": [
       "False"
      ]
     },
     "execution_count": 3,
     "metadata": {},
     "output_type": "execute_result"
    }
   ],
   "source": [
    "not True"
   ]
  },
  {
   "cell_type": "code",
   "execution_count": 4,
   "metadata": {},
   "outputs": [
    {
     "data": {
      "text/plain": [
       "False"
      ]
     },
     "execution_count": 4,
     "metadata": {},
     "output_type": "execute_result"
    }
   ],
   "source": [
    "1 > 2 and 3 > 100 # both need to be true"
   ]
  },
  {
   "cell_type": "code",
   "execution_count": 17,
   "metadata": {},
   "outputs": [
    {
     "name": "stdout",
     "output_type": "stream",
     "text": [
      "10\n"
     ]
    }
   ],
   "source": [
    "x = 0\n",
    "if x > 1: # this statement evaluates to False\n",
    "    x -= 1\n",
    "else: # this statement will be run instead\n",
    "    x += 10\n",
    "print(x) "
   ]
  },
  {
   "cell_type": "code",
   "execution_count": 25,
   "metadata": {},
   "outputs": [
    {
     "name": "stdout",
     "output_type": "stream",
     "text": [
      "FizzBuzz\n"
     ]
    }
   ],
   "source": [
    "# we use elif to implement intermediate steps if we want to check for multiple conditions\n",
    "# we will be using a popular example FizzBuzz\n",
    "inp = int(input(\"Give me a number: \"))\n",
    "if inp % 15 == 0: # checks if the input is divisible by 15\n",
    "    print(\"FizzBuzz\")\n",
    "elif inp % 5 == 0: # if the first condition is false, then it checks if the input is divisible by 5\n",
    "    print(\"Buzz\")\n",
    "elif inp % 3 == 0: # then checks if the input is divisible by 3\n",
    "    print(\"Fizz\")\n",
    "else:              # finally after none of the conditions are met, the number is just printed\n",
    "    print(inp)"
   ]
  },
  {
   "attachments": {},
   "cell_type": "markdown",
   "metadata": {},
   "source": [
    "### 2.2 Sequences\n",
    "\n",
    "So far we've already covered many basic data types in Python, many of which are some form of a sequence (e.g string, list). There are other sequences in Python which we will cover in this section. "
   ]
  },
  {
   "cell_type": "code",
   "execution_count": 1,
   "metadata": {},
   "outputs": [],
   "source": [
    "# creating a tuple\n",
    "x = (1, 2, 3) # these are immutable, meaning their data cannot be modified "
   ]
  },
  {
   "cell_type": "code",
   "execution_count": 3,
   "metadata": {},
   "outputs": [],
   "source": [
    "# this line of code will produce an error\n",
    "# x[0] += 1"
   ]
  },
  {
   "cell_type": "code",
   "execution_count": 6,
   "metadata": {},
   "outputs": [
    {
     "data": {
      "text/plain": [
       "{1, 2, 3}"
      ]
     },
     "execution_count": 6,
     "metadata": {},
     "output_type": "execute_result"
    }
   ],
   "source": [
    "# creating a set\n",
    "y = set()\n",
    "y.add(1)\n",
    "y.add(2)\n",
    "y.add(3)\n",
    "y.add(1) # a set can only contain unique values\n",
    "y"
   ]
  },
  {
   "attachments": {},
   "cell_type": "markdown",
   "metadata": {},
   "source": [
    "There are also generator objects, but they are slightly more complicated so will not go in depth. However, you've seen some generators before, range(), and there is a type of generator that you will likely use often, a comprehension."
   ]
  },
  {
   "cell_type": "code",
   "execution_count": 8,
   "metadata": {},
   "outputs": [
    {
     "data": {
      "text/plain": [
       "range(0, 10)"
      ]
     },
     "execution_count": 8,
     "metadata": {},
     "output_type": "execute_result"
    }
   ],
   "source": [
    "range(10) # generates a range, efficient space complexity"
   ]
  },
  {
   "attachments": {},
   "cell_type": "markdown",
   "metadata": {},
   "source": [
    "### 2.3 Functions\n",
    "\n",
    "DRY or \"Don't Repeat Yourself\" is a principle used in software development aimed at reducing repeition. Functions are one of the most basic ways to accomplish this in Python. They allow us to implement code that can be reused over and over again. They can also be given default arguments, meaning that if we don't specify anything, the default arguments will automatically be evaluated."
   ]
  },
  {
   "cell_type": "code",
   "execution_count": 8,
   "metadata": {},
   "outputs": [
    {
     "name": "stdout",
     "output_type": "stream",
     "text": [
      "1.0 2.0 3.0\n"
     ]
    }
   ],
   "source": [
    "# demonstrating when an example of when functions may be useful\n",
    "x, y, z = 1, 4, 9 # this is an example of multiple assignment, you can create multiple variables all in one line\n",
    "print(x ** 0.5, y ** 0.5, z ** 0.5) # ** is the power operator, not ^, in this case we are computing the square root"
   ]
  },
  {
   "cell_type": "code",
   "execution_count": 15,
   "metadata": {},
   "outputs": [
    {
     "data": {
      "text/plain": [
       "1.0"
      ]
     },
     "execution_count": 15,
     "metadata": {},
     "output_type": "execute_result"
    }
   ],
   "source": [
    "# creating a function syntax, use def to declare the function name, use return to declare the output\n",
    "def sqrt(x):\n",
    "    return x ** 0.5\n",
    "\n",
    "sqrt(1)"
   ]
  },
  {
   "cell_type": "code",
   "execution_count": 18,
   "metadata": {},
   "outputs": [
    {
     "data": {
      "text/plain": [
       "18"
      ]
     },
     "execution_count": 18,
     "metadata": {},
     "output_type": "execute_result"
    }
   ],
   "source": [
    "# we can also implement intermediate steps in our function\n",
    "def double(x):\n",
    "    y = x * 2\n",
    "    return y\n",
    "double(z)"
   ]
  },
  {
   "cell_type": "code",
   "execution_count": 29,
   "metadata": {},
   "outputs": [
    {
     "name": "stdout",
     "output_type": "stream",
     "text": [
      "I love Python\n",
      "I love Math!\n"
     ]
    }
   ],
   "source": [
    "# example of a default argument\n",
    "def i_love(love=\"Python\"):\n",
    "    return \"I love\" + \" \" + love\n",
    "print(i_love()) #when no argument was given, Python was automatically passed in as the default\n",
    "print(i_love(\"Math!\"))"
   ]
  },
  {
   "attachments": {},
   "cell_type": "markdown",
   "metadata": {},
   "source": [
    "We can also declare anonymous functions known as lambda functions in Python. They can only have one expression in them, but can take any number of arguments. It may not make sense why they're used now, but we will revisit them in the future."
   ]
  },
  {
   "cell_type": "code",
   "execution_count": 16,
   "metadata": {},
   "outputs": [
    {
     "data": {
      "text/plain": [
       "4"
      ]
     },
     "execution_count": 16,
     "metadata": {},
     "output_type": "execute_result"
    }
   ],
   "source": [
    "lambda_double = lambda x: x * 2 # the left half of the colon declares the arguments and the right half of the colon declars what the function returns\n",
    "lambda_double(2)"
   ]
  },
  {
   "attachments": {},
   "cell_type": "markdown",
   "metadata": {},
   "source": [
    "### 2.4 Loops\n",
    "Often times, you will need to iterate through some sequence, or do something over and over again. This is where loops come in handy.\n",
    "\n",
    "There are two types of loops:\n",
    " - *for* loops which run within a specific range \n",
    " - *while* loops that run until a condition is met."
   ]
  },
  {
   "cell_type": "code",
   "execution_count": 65,
   "metadata": {},
   "outputs": [
    {
     "name": "stdout",
     "output_type": "stream",
     "text": [
      "0\n",
      "1\n",
      "2\n",
      "3\n",
      "4\n",
      "5\n",
      "6\n",
      "7\n",
      "8\n",
      "9\n"
     ]
    }
   ],
   "source": [
    "# example of a for loop\n",
    "for i in range(10):\n",
    "    print(i) # prints each number in the range [0 (inclusive), 10 (exclusive)]"
   ]
  },
  {
   "cell_type": "code",
   "execution_count": 67,
   "metadata": {},
   "outputs": [
    {
     "name": "stdout",
     "output_type": "stream",
     "text": [
      "0\n",
      "1\n",
      "2\n",
      "3\n",
      "4\n",
      "5\n",
      "6\n",
      "7\n",
      "8\n",
      "9\n"
     ]
    }
   ],
   "source": [
    "# example of a while loop\n",
    "x = 0\n",
    "while x < 10:\n",
    "   print(x)\n",
    "   x += 1 # same as above in the form of a while loop"
   ]
  },
  {
   "cell_type": "code",
   "execution_count": 10,
   "metadata": {},
   "outputs": [
    {
     "name": "stdout",
     "output_type": "stream",
     "text": [
      "I\n",
      "love\n",
      "python\n"
     ]
    }
   ],
   "source": [
    "# we can also iterate through an interable\n",
    "ls = [\"I\", \"love\", \"python\"]\n",
    "for string in ls: # iterates through each element in the list above and prints it out\n",
    "    print(string)"
   ]
  },
  {
   "cell_type": "code",
   "execution_count": 13,
   "metadata": {},
   "outputs": [
    {
     "name": "stdout",
     "output_type": "stream",
     "text": [
      "p\n",
      "y\n",
      "t\n",
      "h\n",
      "o\n",
      "n\n"
     ]
    }
   ],
   "source": [
    "# more examples\n",
    "for letter in ls[-1]: # ls[-1] gets the last element in the list, the -1st index\n",
    "    print(letter) # iterates through each letter and prints it out"
   ]
  },
  {
   "attachments": {},
   "cell_type": "markdown",
   "metadata": {},
   "source": [
    "### 2.4.1 List comprehensions\n",
    "Python offers a more efficient way to run for loops using list comprehensions.\n",
    "\n",
    "The syntax is as follows: `[<expression> for <variable> in <iterable> {if <condition>}]`"
   ]
  },
  {
   "cell_type": "code",
   "execution_count": 69,
   "metadata": {},
   "outputs": [
    {
     "data": {
      "text/plain": [
       "[0, 2, 4, 6, 8, 10, 12, 14, 16, 18, 20]"
      ]
     },
     "execution_count": 69,
     "metadata": {},
     "output_type": "execute_result"
    }
   ],
   "source": [
    "# an example of a comprehension\n",
    "[x for x in range(21) if x % 2 == 0] # creates a list of only even numbers in the range [0 (inclusive), 21 (exclusive)]"
   ]
  },
  {
   "attachments": {},
   "cell_type": "markdown",
   "metadata": {},
   "source": [
    "#### Note: \n",
    "Often times, Python has built in functions or libraries that will provide a more efficient implementation that if you were to write the function yourself. Loops are especially inefficient, and you should aim to avoid them whenever you can."
   ]
  },
  {
   "cell_type": "code",
   "execution_count": 56,
   "metadata": {},
   "outputs": [],
   "source": [
    "import math"
   ]
  },
  {
   "cell_type": "code",
   "execution_count": 57,
   "metadata": {},
   "outputs": [
    {
     "name": "stdout",
     "output_type": "stream",
     "text": [
      "94.4 ns ± 3.66 ns per loop (mean ± std. dev. of 7 runs, 10,000,000 loops each)\n"
     ]
    }
   ],
   "source": [
    "%%timeit\n",
    "math.sqrt(4)"
   ]
  },
  {
   "cell_type": "code",
   "execution_count": 58,
   "metadata": {},
   "outputs": [
    {
     "name": "stdout",
     "output_type": "stream",
     "text": [
      "128 ns ± 5.13 ns per loop (mean ± std. dev. of 7 runs, 10,000,000 loops each)\n"
     ]
    }
   ],
   "source": [
    "%%timeit\n",
    "sqrt(4)"
   ]
  },
  {
   "cell_type": "code",
   "execution_count": 61,
   "metadata": {},
   "outputs": [
    {
     "name": "stdout",
     "output_type": "stream",
     "text": [
      "148 ns ± 3.89 ns per loop (mean ± std. dev. of 7 runs, 10,000,000 loops each)\n"
     ]
    }
   ],
   "source": [
    "%%timeit\n",
    "sum([1, 2, 3])"
   ]
  },
  {
   "cell_type": "code",
   "execution_count": 63,
   "metadata": {},
   "outputs": [
    {
     "name": "stdout",
     "output_type": "stream",
     "text": [
      "229 ns ± 22.8 ns per loop (mean ± std. dev. of 7 runs, 1,000,000 loops each)\n"
     ]
    }
   ],
   "source": [
    "%%timeit\n",
    "nums = [1, 2, 3]\n",
    "total = 0\n",
    "for n in nums:\n",
    "    total += n\n",
    "total"
   ]
  },
  {
   "attachments": {},
   "cell_type": "markdown",
   "metadata": {},
   "source": [
    "### Exercise: Four-Function Calculator\n",
    "\n",
    "For this exercise, you will have to implement a function with that takes in two numbers and a specified operator, and returns the result\n",
    "\n",
    "The operations you will implement are:\n",
    " - `addition (+)`\n",
    " - `subtraction (-)`\n",
    " - `multiplication (*)`\n",
    " - `division (/)`\n",
    " \n",
    " The function will take 3 arguments:\n",
    " - `x`: a number\n",
    " - `y`: a number\n",
    " - `mode`: the type of opreation we are performing: addition, subtraction, multiplication, division\n",
    "\n",
    " Hint: eval() allows you to evaluate a string as if it were Python code"
   ]
  },
  {
   "cell_type": "code",
   "execution_count": 37,
   "metadata": {},
   "outputs": [
    {
     "name": "stdout",
     "output_type": "stream",
     "text": [
      "Hello World!\n"
     ]
    }
   ],
   "source": [
    "eval(\"print('Hello World!')\")"
   ]
  },
  {
   "cell_type": "code",
   "execution_count": 3,
   "metadata": {},
   "outputs": [],
   "source": [
    "def calculate(x, y, mode):\n",
    "    ..."
   ]
  },
  {
   "cell_type": "code",
   "execution_count": 5,
   "metadata": {},
   "outputs": [
    {
     "name": "stdout",
     "output_type": "stream",
     "text": [
      "**********************************************************************\n",
      "File \"__main__\", line 4, in __main__.test_calculate\n",
      "Failed example:\n",
      "    calculate(1, 2, \"addition\")\n",
      "Expected:\n",
      "    3\n",
      "Got nothing\n",
      "**********************************************************************\n",
      "File \"__main__\", line 6, in __main__.test_calculate\n",
      "Failed example:\n",
      "    calculate(10, 10, \"multiplication\")\n",
      "Expected:\n",
      "    100\n",
      "Got nothing\n",
      "**********************************************************************\n",
      "File \"__main__\", line 8, in __main__.test_calculate\n",
      "Failed example:\n",
      "    calculate(20, 5, \"subtraction\")\n",
      "Expected:\n",
      "    15\n",
      "Got nothing\n",
      "**********************************************************************\n",
      "File \"__main__\", line 10, in __main__.test_calculate\n",
      "Failed example:\n",
      "    calculate(1000, 100 \"division\")\n",
      "Exception raised:\n",
      "    Traceback (most recent call last):\n",
      "      File \"/Users/quan/opt/anaconda3/envs/biokind_analytics/lib/python3.9/doctest.py\", line 1334, in __run\n",
      "        exec(compile(example.source, filename, \"single\",\n",
      "      File \"<doctest __main__.test_calculate[3]>\", line 1\n",
      "        calculate(1000, 100 \"division\")\n",
      "                            ^\n",
      "    SyntaxError: invalid syntax\n",
      "**********************************************************************\n",
      "1 items had failures:\n",
      "   4 of   4 in __main__.test_calculate\n",
      "***Test Failed*** 4 failures.\n"
     ]
    },
    {
     "data": {
      "text/plain": [
       "TestResults(failed=4, attempted=4)"
      ]
     },
     "execution_count": 5,
     "metadata": {},
     "output_type": "execute_result"
    }
   ],
   "source": [
    "# run this cell to test your function\n",
    "def test_calculate():\n",
    "    '''\n",
    "    >>> calculate(1, 2, \"addition\")\n",
    "    3\n",
    "    >>> calculate(10, 10, \"multiplication\")\n",
    "    100\n",
    "    >>> calculate(20, 5, \"subtraction\")\n",
    "    15\n",
    "    >>> calculate(1000, 100 \"division\")\n",
    "    10\n",
    "    '''\n",
    "    pass\n",
    "\n",
    "import doctest\n",
    "doctest.testmod()"
   ]
  }
 ],
 "metadata": {
  "kernelspec": {
   "display_name": "biokind_analytics",
   "language": "python",
   "name": "python3"
  },
  "language_info": {
   "codemirror_mode": {
    "name": "ipython",
    "version": 3
   },
   "file_extension": ".py",
   "mimetype": "text/x-python",
   "name": "python",
   "nbconvert_exporter": "python",
   "pygments_lexer": "ipython3",
   "version": "3.9.16"
  },
  "orig_nbformat": 4
 },
 "nbformat": 4,
 "nbformat_minor": 2
}
