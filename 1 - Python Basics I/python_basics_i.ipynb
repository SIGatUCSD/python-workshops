{
 "cells": [
  {
   "attachments": {},
   "cell_type": "markdown",
   "metadata": {},
   "source": [
    "# 1. Python Basics I\n",
    "\n",
    "### Sustainable Investment Group/Biokind Analytics\n",
    "\n",
    "##### Pranay Jha, Lucien Chen"
   ]
  },
  {
   "attachments": {},
   "cell_type": "markdown",
   "metadata": {},
   "source": [
    "### 1.1 What is Python and how does it work?\n",
    "\n",
    "Python is a high-level, interpreted, and general-purpose programming language. It is known for its readability and ease of use, which makes it popular among both beginners and experienced developers.\n",
    "\n",
    "When a Python program is run, a separate program called the interpreter reads the source code line by line (a process known as parsing) and checks whether there are syntax (the grammar of a programming language) errors. After, the source code is compiled into bytecode, a lower-level form of the source code that our machines have an easier time digesting. This bytecode is then fed into the Python Virtual Machine (PVM), where the interpreter runs it line by line. Compiling the source code to bytecode and running it on a virtual machine allows Python to be platform-indepedent and more user-friendly. "
   ]
  },
  {
   "attachments": {},
   "cell_type": "markdown",
   "metadata": {},
   "source": [
    "### 1.2 Jupyter Notebooks and Google Colab\n",
    "\n",
    "Jupyter Notebooks are an interactive computing interface commonly used for data science, computational science, and machine learning in a 'notebook' format. Jupyter Notebooks can contain text, code, and visualizations. Code and text are written in 'cells', which comprise the notebook. We will primarily use Google Colab notebooks, which are practically interchangeable with Jupyter Notebooks and run solely in your browser."
   ]
  },
  {
   "attachments": {},
   "cell_type": "markdown",
   "metadata": {},
   "source": [
    "### 1.3 Variables and basic data types: `int`, `float`, `bool`, `str`, `None`\n",
    "\n",
    "Variables are the most basic building block of any program. Variables are used to store data, which can be of different types. A variable can also be updated if we wish to change the data it is storing.\n",
    "\n",
    "| Type     | Description          | Example                          |\n",
    "|----------|----------------------|----------------------------------|\n",
    "| `int`    | Integers             | `5`, `123`, `9999`, etc.         |\n",
    "| `float`  | Decimals             | `0.1`, `0.0039`, `44.44`, etc.   |\n",
    "| `bool`   | Boolean              | `True` or `False`                |\n",
    "| `str`    | String of characters | `\"Hi\"`, `'bye'`, `\"9999\"`, etc.  |\n",
    "| `None`   | Python's null        | None                             |"
   ]
  },
  {
   "cell_type": "code",
   "execution_count": 107,
   "metadata": {},
   "outputs": [
    {
     "data": {
      "text/plain": [
       "22"
      ]
     },
     "execution_count": 107,
     "metadata": {},
     "output_type": "execute_result"
    }
   ],
   "source": [
    "my_var = 22 # assigning the integer value 22 to my_var\n",
    "my_var"
   ]
  },
  {
   "cell_type": "code",
   "execution_count": 110,
   "metadata": {},
   "outputs": [
    {
     "data": {
      "text/plain": [
       "(4.4, 4.4)"
      ]
     },
     "execution_count": 110,
     "metadata": {},
     "output_type": "execute_result"
    }
   ],
   "source": [
    "a_float = 9.9\n",
    "another_float = 4.4\n",
    "a_float = another_float # changing a_float to the value of another_float\n",
    "a_float, another_float"
   ]
  },
  {
   "cell_type": "code",
   "execution_count": 1,
   "metadata": {},
   "outputs": [
    {
     "data": {
      "text/plain": [
       "True"
      ]
     },
     "execution_count": 1,
     "metadata": {},
     "output_type": "execute_result"
    }
   ],
   "source": [
    "i_love_python = True    # assigning the bool value True to i_hate_python\n",
    "i_love_python"
   ]
  },
  {
   "cell_type": "code",
   "execution_count": 112,
   "metadata": {},
   "outputs": [
    {
     "data": {
      "text/plain": [
       "'I like strings better'"
      ]
     },
     "execution_count": 112,
     "metadata": {},
     "output_type": "execute_result"
    }
   ],
   "source": [
    "my_var = 10\n",
    "my_var = \"I like strings better\" # changing the type of data my_var is storing from int to str\n",
    "my_var"
   ]
  },
  {
   "cell_type": "code",
   "execution_count": 41,
   "metadata": {},
   "outputs": [
    {
     "name": "stdout",
     "output_type": "stream",
     "text": [
      "Sustainable\n",
      "Investing\n",
      "\n"
     ]
    },
    {
     "data": {
      "text/plain": [
       "'Sustainable\\nInvesting\\n'"
      ]
     },
     "execution_count": 41,
     "metadata": {},
     "output_type": "execute_result"
    }
   ],
   "source": [
    "# strings also have special escape characters\n",
    "newline = \"Sustainable\\nInvesting\\n\" #\\n implenets a line break\n",
    "print(newline)\n",
    "newline #the linebreaks only show up when printing the string"
   ]
  },
  {
   "cell_type": "code",
   "execution_count": 32,
   "metadata": {},
   "outputs": [
    {
     "data": {
      "text/plain": [
       "NoneType"
      ]
     },
     "execution_count": 32,
     "metadata": {},
     "output_type": "execute_result"
    }
   ],
   "source": [
    "type(None)"
   ]
  },
  {
   "attachments": {},
   "cell_type": "markdown",
   "metadata": {},
   "source": [
    "### 1.4 `list`: appending, removing, indexing, and slicing\n",
    "\n",
    "Lists are an important *data structure* in any programming language. As their name implies, we can use them store, access, and update elements in the form of a list."
   ]
  },
  {
   "cell_type": "code",
   "execution_count": 81,
   "metadata": {},
   "outputs": [
    {
     "data": {
      "text/plain": [
       "[1, 2, 3]"
      ]
     },
     "execution_count": 81,
     "metadata": {},
     "output_type": "execute_result"
    }
   ],
   "source": [
    "my_list = []    # an empty list\n",
    "my_list.append(1)   # appending an element to the end of the list\n",
    "my_list.append(2)\n",
    "my_list.append(3)\n",
    "my_list"
   ]
  },
  {
   "cell_type": "code",
   "execution_count": 6,
   "metadata": {},
   "outputs": [
    {
     "data": {
      "text/plain": [
       "['Tom', 'Harry', 'Billy', 'Richard', 'Bob']"
      ]
     },
     "execution_count": 6,
     "metadata": {},
     "output_type": "execute_result"
    }
   ],
   "source": [
    "names = [\"Tom\", \"Harry\", \"Richard\", \"Billy\", \"Richard\", \"Bob\"]  # a list with predetermined elements\n",
    "names.remove(\"Richard\")     # removing the first occurence of the string \"Richard\"\n",
    "names"
   ]
  },
  {
   "cell_type": "code",
   "execution_count": 83,
   "metadata": {},
   "outputs": [
    {
     "data": {
      "text/plain": [
       "'Billy'"
      ]
     },
     "execution_count": 83,
     "metadata": {},
     "output_type": "execute_result"
    }
   ],
   "source": [
    "names[2]    # accessing the 2nd element in names\n",
    "# keep in mind that lists in python start at the 0th element!"
   ]
  },
  {
   "cell_type": "code",
   "execution_count": 84,
   "metadata": {},
   "outputs": [
    {
     "data": {
      "text/plain": [
       "'Bob'"
      ]
     },
     "execution_count": 84,
     "metadata": {},
     "output_type": "execute_result"
    }
   ],
   "source": [
    "names[-1]   # accessing the last element in names "
   ]
  },
  {
   "cell_type": "code",
   "execution_count": 85,
   "metadata": {},
   "outputs": [
    {
     "data": {
      "text/plain": [
       "['John', 'Harry', 'Billy', 'Richard', 'Bob']"
      ]
     },
     "execution_count": 85,
     "metadata": {},
     "output_type": "execute_result"
    }
   ],
   "source": [
    "names[0] = \"John\"   # updating the 0th element in the list to \"John\"\n",
    "names"
   ]
  },
  {
   "cell_type": "code",
   "execution_count": 86,
   "metadata": {},
   "outputs": [
    {
     "data": {
      "text/plain": [
       "['Harry', 'Billy', 'Richard']"
      ]
     },
     "execution_count": 86,
     "metadata": {},
     "output_type": "execute_result"
    }
   ],
   "source": [
    "names[1:4]  # this slice will output the 1st thru 4th element in the list, not inclusive"
   ]
  },
  {
   "cell_type": "code",
   "execution_count": 87,
   "metadata": {},
   "outputs": [
    {
     "data": {
      "text/plain": [
       "['Harry', 'Billy', 'Richard', 'Bob']"
      ]
     },
     "execution_count": 87,
     "metadata": {},
     "output_type": "execute_result"
    }
   ],
   "source": [
    "names[1:]   # if a second index is not provided, the slice will output the elements to the end of the list"
   ]
  },
  {
   "cell_type": "code",
   "execution_count": 8,
   "metadata": {},
   "outputs": [
    {
     "data": {
      "text/plain": [
       "'I love doing data an'"
      ]
     },
     "execution_count": 8,
     "metadata": {},
     "output_type": "execute_result"
    }
   ],
   "source": [
    "# we can also apply much of the same logic to a string\n",
    "sentence = \"I love doing data analysis!\"\n",
    "sentence[:20]"
   ]
  },
  {
   "cell_type": "code",
   "execution_count": 10,
   "metadata": {},
   "outputs": [
    {
     "data": {
      "text/plain": [
       "['Tom', 'Harry', 'Billy', 'Richard', 'Bob']"
      ]
     },
     "execution_count": 10,
     "metadata": {},
     "output_type": "execute_result"
    }
   ],
   "source": [
    "names"
   ]
  },
  {
   "cell_type": "code",
   "execution_count": 9,
   "metadata": {},
   "outputs": [
    {
     "data": {
      "text/plain": [
       "['Tom', 'Billy', 'Bob']"
      ]
     },
     "execution_count": 9,
     "metadata": {},
     "output_type": "execute_result"
    }
   ],
   "source": [
    "# we can implement steps in lists and in strings\n",
    "names[::2] # gets every other name"
   ]
  },
  {
   "cell_type": "code",
   "execution_count": 14,
   "metadata": {},
   "outputs": [
    {
     "data": {
      "text/plain": [
       "'Io i tali'"
      ]
     },
     "execution_count": 14,
     "metadata": {},
     "output_type": "execute_result"
    }
   ],
   "source": [
    "sentence[::3] #gets every third letter"
   ]
  },
  {
   "cell_type": "code",
   "execution_count": 11,
   "metadata": {},
   "outputs": [
    {
     "data": {
      "text/plain": [
       "['Bob', 'Richard', 'Billy', 'Harry', 'Tom']"
      ]
     },
     "execution_count": 11,
     "metadata": {},
     "output_type": "execute_result"
    }
   ],
   "source": [
    "names[::-1] # reverses the list"
   ]
  },
  {
   "attachments": {},
   "cell_type": "markdown",
   "metadata": {},
   "source": [
    "### 1.5 Utility functions: `print()`, `type()`, `len()`, `range()`, `input()`\n",
    "\n",
    "Utility functions in Python are designed to perform simple but useful tasks that may come up frequently when writing code. In this section, we will discuss a small set of these utility functions and demonstrate their use cases."
   ]
  },
  {
   "attachments": {},
   "cell_type": "markdown",
   "metadata": {},
   "source": [
    "##### `print(`<i>`message`<i>`)`\n",
    "\n",
    "The `print()` function is used to output a message to the console."
   ]
  },
  {
   "cell_type": "code",
   "execution_count": 108,
   "metadata": {},
   "outputs": [
    {
     "name": "stdout",
     "output_type": "stream",
     "text": [
      "55\n",
      "23.4231203\n",
      "Hello, World!\n"
     ]
    }
   ],
   "source": [
    "print(55)\n",
    "print(23.4231203)\n",
    "print(\"Hello, World!\")"
   ]
  },
  {
   "attachments": {},
   "cell_type": "markdown",
   "metadata": {},
   "source": [
    "##### `type(`<i>`object`<i>`)`\n",
    "\n",
    "The `type()` function tells us the type of the variable or object that we pass into it."
   ]
  },
  {
   "cell_type": "code",
   "execution_count": 89,
   "metadata": {},
   "outputs": [
    {
     "data": {
      "text/plain": [
       "str"
      ]
     },
     "execution_count": 89,
     "metadata": {},
     "output_type": "execute_result"
    }
   ],
   "source": [
    "type(\"This is a string\")"
   ]
  },
  {
   "cell_type": "code",
   "execution_count": 90,
   "metadata": {},
   "outputs": [
    {
     "data": {
      "text/plain": [
       "float"
      ]
     },
     "execution_count": 90,
     "metadata": {},
     "output_type": "execute_result"
    }
   ],
   "source": [
    "type(99.99)"
   ]
  },
  {
   "attachments": {},
   "cell_type": "markdown",
   "metadata": {},
   "source": [
    "##### `len(`<i>`object`<i>`)`\n",
    "\n",
    "The `len()` function can be used to find the length of objects such as strings and lists as an integer."
   ]
  },
  {
   "cell_type": "code",
   "execution_count": 91,
   "metadata": {},
   "outputs": [
    {
     "name": "stdout",
     "output_type": "stream",
     "text": [
      "11\n",
      "3\n"
     ]
    }
   ],
   "source": [
    "my_string = \"Sustainable\"\n",
    "print(len(my_string)) \n",
    "my_list = [1, 2, 3]\n",
    "print(len(my_list))"
   ]
  },
  {
   "attachments": {},
   "cell_type": "markdown",
   "metadata": {},
   "source": [
    "##### `range(`<i>`start, stop, step`<i>`)`\n",
    "\n",
    "The `range()` function outputs a sequence of integers that begin at an integer *`start`* and end at *`stop`*, not inclusive. Elements in the sequence have a difference of *`step`* between them."
   ]
  },
  {
   "cell_type": "code",
   "execution_count": 92,
   "metadata": {},
   "outputs": [
    {
     "name": "stdout",
     "output_type": "stream",
     "text": [
      "[0, 1, 2, 3, 4]\n",
      "[0, 2, 4, 6, 8]\n"
     ]
    }
   ],
   "source": [
    "my_range = range(5)     # range from 0 to 5, not inclusive; the default step is 1\n",
    "print([n for n in my_range])    # don't worry about this statement right now, we'll revisit this soon\n",
    "my_step_range = range(0, 10, 2)     # range from 0 to 10, not inclusive, step of 2\n",
    "print([n for n in my_step_range])"
   ]
  },
  {
   "attachments": {},
   "cell_type": "markdown",
   "metadata": {},
   "source": [
    "##### `input(`<i>`prompt`<i>`)`\n",
    "\n",
    "The `input()` function prompts the user for an input which can be stored in a variable."
   ]
  },
  {
   "cell_type": "code",
   "execution_count": 16,
   "metadata": {},
   "outputs": [
    {
     "name": "stdout",
     "output_type": "stream",
     "text": [
      "You are 8 years old!\n"
     ]
    }
   ],
   "source": [
    "age = input(\"Enter your age:\")\n",
    "print(\"You are \" + age + \" years old!\")"
   ]
  },
  {
   "attachments": {},
   "cell_type": "markdown",
   "metadata": {},
   "source": [
    "### 1.6 Type casting\n",
    "\n",
    "Type casting allows us to convert a variable from one type to another."
   ]
  },
  {
   "cell_type": "code",
   "execution_count": 94,
   "metadata": {},
   "outputs": [
    {
     "name": "stdout",
     "output_type": "stream",
     "text": [
      "I can easily print this: 99\n"
     ]
    },
    {
     "data": {
      "text/plain": [
       "str"
      ]
     },
     "execution_count": 94,
     "metadata": {},
     "output_type": "execute_result"
    }
   ],
   "source": [
    "my_int = 99\n",
    "my_int = str(my_int)\n",
    "print(\"I can easily print this: \" + my_int)\n",
    "type(my_int)"
   ]
  },
  {
   "cell_type": "code",
   "execution_count": 95,
   "metadata": {},
   "outputs": [
    {
     "name": "stdout",
     "output_type": "stream",
     "text": [
      "I can also do inline casting: 123.456\n"
     ]
    }
   ],
   "source": [
    "print(\"I can also do inline casting: \" + str(123.456))"
   ]
  },
  {
   "cell_type": "code",
   "execution_count": 109,
   "metadata": {},
   "outputs": [
    {
     "name": "stdout",
     "output_type": "stream",
     "text": [
      "299\n"
     ]
    },
    {
     "data": {
      "text/plain": [
       "int"
      ]
     },
     "execution_count": 109,
     "metadata": {},
     "output_type": "execute_result"
    }
   ],
   "source": [
    "my_float = 299.99\n",
    "my_float = int(my_float)    # casting float to int\n",
    "print(my_float)     # notice the loss of precision\n",
    "type(my_float)"
   ]
  },
  {
   "attachments": {},
   "cell_type": "markdown",
   "metadata": {},
   "source": [
    "### 1.7 Checking Type\n",
    "When checking if an object/variable is of a certain type, use the isinstance function."
   ]
  },
  {
   "cell_type": "code",
   "execution_count": 45,
   "metadata": {},
   "outputs": [
    {
     "data": {
      "text/plain": [
       "True"
      ]
     },
     "execution_count": 45,
     "metadata": {},
     "output_type": "execute_result"
    }
   ],
   "source": [
    "isinstance(True, bool)"
   ]
  },
  {
   "cell_type": "markdown",
   "metadata": {},
   "source": [
    "### 1.8 Truthy/Falsey Values\n",
    "In Python, non-booleans have some sort of boolean properties known as truthy and falsey properties. These are useful for condition statements and other use cases."
   ]
  },
  {
   "cell_type": "code",
   "execution_count": 46,
   "metadata": {},
   "outputs": [
    {
     "name": "stdout",
     "output_type": "stream",
     "text": [
      "1\n"
     ]
    }
   ],
   "source": [
    "x = 1\n",
    "if x:\n",
    "    print(x)"
   ]
  },
  {
   "cell_type": "code",
   "execution_count": 47,
   "metadata": {},
   "outputs": [],
   "source": [
    "x = 0\n",
    "if x:\n",
    "    print(x)"
   ]
  },
  {
   "cell_type": "code",
   "execution_count": 48,
   "metadata": {},
   "outputs": [
    {
     "name": "stdout",
     "output_type": "stream",
     "text": [
      "True False\n"
     ]
    }
   ],
   "source": [
    "print(bool(1), bool(0.0)) # applies to integers and floats"
   ]
  },
  {
   "cell_type": "code",
   "execution_count": 22,
   "metadata": {},
   "outputs": [
    {
     "name": "stdout",
     "output_type": "stream",
     "text": [
      "False True\n"
     ]
    }
   ],
   "source": [
    "print(bool(''), bool('Hello World!')) # applies to strings"
   ]
  },
  {
   "cell_type": "code",
   "execution_count": 27,
   "metadata": {},
   "outputs": [
    {
     "name": "stdout",
     "output_type": "stream",
     "text": [
      "False True\n"
     ]
    }
   ],
   "source": [
    "print(bool([]), bool([[]])) # applies to lists, notice how the second list contains an empty list but still has a truthy value"
   ]
  },
  {
   "attachments": {},
   "cell_type": "markdown",
   "metadata": {},
   "source": [
    "### Exercise\n",
    "\n",
    "Write a function that checks the types of first three elements of a list. The first element should be a *boolean*, the second should be an *integer*, and the last element should be of *NoneType*.\n",
    "\n",
    "Hint: the syntax for the function is already written for you, you simply need to implement the logic."
   ]
  },
  {
   "cell_type": "code",
   "execution_count": 54,
   "metadata": {},
   "outputs": [],
   "source": [
    "def check_types(lst):\n",
    "    first_type = ...\n",
    "    second_type = ...\n",
    "    last_type = ...\n",
    "    correct_types = first_type and second_type and last_type\n",
    "    return correct_types"
   ]
  },
  {
   "cell_type": "code",
   "execution_count": 53,
   "metadata": {},
   "outputs": [
    {
     "name": "stdout",
     "output_type": "stream",
     "text": [
      "**********************************************************************\n",
      "File \"__main__\", line 4, in __main__.test_check_types\n",
      "Failed example:\n",
      "    check_types(correct)\n",
      "Expected:\n",
      "    True\n",
      "Got:\n",
      "    Ellipsis\n",
      "**********************************************************************\n",
      "File \"__main__\", line 7, in __main__.test_check_types\n",
      "Failed example:\n",
      "    check_types(wrong)\n",
      "Expected:\n",
      "    False\n",
      "Got:\n",
      "    Ellipsis\n",
      "**********************************************************************\n",
      "1 items had failures:\n",
      "   2 of   4 in __main__.test_check_types\n",
      "***Test Failed*** 2 failures.\n"
     ]
    },
    {
     "data": {
      "text/plain": [
       "TestResults(failed=2, attempted=4)"
      ]
     },
     "execution_count": 53,
     "metadata": {},
     "output_type": "execute_result"
    }
   ],
   "source": [
    "def test_check_types():\n",
    "    '''\n",
    "    >>> correct = [True, 1000, None]\n",
    "    >>> check_types(correct)\n",
    "    True\n",
    "    >>> wrong = [False, 3.14, '']\n",
    "    >>> check_types(wrong)\n",
    "    False\n",
    "    '''\n",
    "    pass\n",
    "\n",
    "import doctest\n",
    "doctest.testmod()"
   ]
  }
 ],
 "metadata": {
  "kernelspec": {
   "display_name": "Python 3",
   "language": "python",
   "name": "python3"
  },
  "language_info": {
   "codemirror_mode": {
    "name": "ipython",
    "version": 3
   },
   "file_extension": ".py",
   "mimetype": "text/x-python",
   "name": "python",
   "nbconvert_exporter": "python",
   "pygments_lexer": "ipython3",
   "version": "3.9.16"
  },
  "orig_nbformat": 4
 },
 "nbformat": 4,
 "nbformat_minor": 2
}
